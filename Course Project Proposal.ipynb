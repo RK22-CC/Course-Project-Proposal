{
 "cells": [
  {
   "cell_type": "markdown",
   "id": "eef49dcc",
   "metadata": {},
   "source": [
    "# Course Project Proposal"
   ]
  },
  {
   "cell_type": "markdown",
   "id": "575f9a8b",
   "metadata": {},
   "source": [
    "## Analysis 1"
   ]
  },
  {
   "cell_type": "markdown",
   "id": "e6ab4641",
   "metadata": {},
   "source": [
    "### Research Question"
   ]
  },
  {
   "cell_type": "markdown",
   "id": "61bfd96c",
   "metadata": {},
   "source": [
    "Is there an association between social connection (frequency of interactions or quality of relationships) and self-reported well-being?"
   ]
  },
  {
   "cell_type": "markdown",
   "id": "6bb305e5",
   "metadata": {},
   "source": [
    "### Variables"
   ]
  },
  {
   "cell_type": "markdown",
   "id": "376f12cf",
   "metadata": {},
   "source": [
    "SOCIAL_freq (frequency of social interactions), WELLBEING_score (well-being score)"
   ]
  },
  {
   "cell_type": "markdown",
   "id": "37a15a1e",
   "metadata": {},
   "source": [
    "### Visualization"
   ]
  },
  {
   "cell_type": "markdown",
   "id": "5abd5aae",
   "metadata": {},
   "source": [
    "SOCIAL_freq - bar plot → shows a clear distribution of categorical frequency levels (by daily, weekly, montly), providing an easy way to compare social frequencies across these categories"
   ]
  },
  {
   "cell_type": "markdown",
   "id": "c8c7fb4c",
   "metadata": {},
   "source": [
    "WELLBEING_score - violin plot → the violin plot combines aspects of the box plot and kernel density estimation to give holistic view of the 2 variables being compared. Also known for it’s effectiveness in highlighting multimodality it can help show such frequent patterns in the data that could indicate us to potentially other factors outside of the chosen variables that affect well-being."
   ]
  },
  {
   "cell_type": "markdown",
   "id": "0d138c80",
   "metadata": {},
   "source": [
    "### Method and Assumptions"
   ]
  },
  {
   "cell_type": "markdown",
   "id": "657385b3",
   "metadata": {},
   "source": [
    "Simple linear regression can provide a model that predicts well-being scores based on social connection frequency. This method allows us to estimate how changes in the frequency of social connection relate to changes in well-being, and gives insights into the size of effect of social connection. With this method we’ll construct a 95% confidence interval through bootstrapping. As for assumptions, ​​the linearity, independence, homoscedasticity, normality of residuals and multicollinearity will be assessed."
   ]
  },
  {
   "cell_type": "markdown",
   "id": "caabecb9",
   "metadata": {},
   "source": [
    "### Hypothesis"
   ]
  },
  {
   "cell_type": "markdown",
   "id": "a258fd78",
   "metadata": {},
   "source": [
    "Null Hypothesis - there is no relationship between social connection frequency and well-being scores"
   ]
  },
  {
   "cell_type": "markdown",
   "id": "d6753946",
   "metadata": {},
   "source": [
    "Alternative Hypothesis - there is a relationship between social connection frequency and well-being scores"
   ]
  },
  {
   "cell_type": "markdown",
   "id": "ed575413",
   "metadata": {},
   "source": [
    "### Potential Results"
   ]
  },
  {
   "cell_type": "markdown",
   "id": "4267ba7f",
   "metadata": {},
   "source": [
    "If the confidence interval excludes zero (either entirely positive or negative), there’s a statistically significant relationship.\n",
    "If the confidence interval includes zero, there’s no statistically significant relationship at the 95% confidence level."
   ]
  },
  {
   "cell_type": "markdown",
   "id": "b6bf936e",
   "metadata": {},
   "source": [
    "## Analysis 2"
   ]
  },
  {
   "cell_type": "markdown",
   "id": "35d68e81",
   "metadata": {},
   "source": [
    "### Research Question"
   ]
  },
  {
   "cell_type": "markdown",
   "id": "3924774c",
   "metadata": {},
   "source": [
    "Does the number of meaningful social interactions have a significant association with self-rated mental health?"
   ]
  },
  {
   "cell_type": "markdown",
   "id": "5423c2cc",
   "metadata": {},
   "source": [
    "### Variables"
   ]
  },
  {
   "cell_type": "markdown",
   "id": "4320e56e",
   "metadata": {},
   "source": [
    "CONNECTION_meaningful_interactions (Frequency of meaningful social interactions), WELLNESS_self_rated_mental_health (Self-rated mental health)"
   ]
  },
  {
   "cell_type": "markdown",
   "id": "76717783",
   "metadata": {},
   "source": [
    "### Visualization"
   ]
  },
  {
   "cell_type": "markdown",
   "id": "674d1d4f",
   "metadata": {},
   "source": [
    "Bar Plot for CONNECTION_meaningful_interactions to display the frequency of meaningful social interactions."
   ]
  },
  {
   "cell_type": "markdown",
   "id": "e351b954",
   "metadata": {},
   "source": [
    "Violin Plot for WELLNESS_self_rated_mental_health, allowing for a detailed view of mental health ratings by categories of meaningful interactions, which may reveal multimodal patterns and provide insight into potential subgroups in mental health levels."
   ]
  },
  {
   "cell_type": "markdown",
   "id": "e83c0cd3",
   "metadata": {},
   "source": [
    "### Method and Assumptions"
   ]
  },
  {
   "cell_type": "markdown",
   "id": "31b9a0e9",
   "metadata": {},
   "source": [
    "Simple Linear Regression to model the effect of meaningful social interactions on self-rated mental health. We’ll create a 95% confidence interval using bootstrapping to make fewer assumptions about data distribution. As for assumptions, we assume linearity, independence, and homoscedasticity, while also verifying the normality of residuals."
   ]
  },
  {
   "cell_type": "markdown",
   "id": "e5a49b1a",
   "metadata": {},
   "source": [
    "### Hypothesis"
   ]
  },
  {
   "cell_type": "markdown",
   "id": "6d053001",
   "metadata": {},
   "source": [
    "Null Hypothesis - There is no association between the frequency of meaningful social interactions and self-rated mental health."
   ]
  },
  {
   "cell_type": "markdown",
   "id": "5d51c413",
   "metadata": {},
   "source": [
    "Alternative Hypothesis - There is an association between the frequency of meaningful social interactions and self-rated mental health."
   ]
  },
  {
   "cell_type": "markdown",
   "id": "0c95a92c",
   "metadata": {},
   "source": [
    "### Potential Results"
   ]
  },
  {
   "cell_type": "markdown",
   "id": "c2c744f7",
   "metadata": {},
   "source": [
    "If the confidence interval for the slope excludes zero, it indicates a statistically significant relationship.\n",
    "If the interval includes zero, there’s no significant relationship at the 95% confidence level."
   ]
  },
  {
   "cell_type": "markdown",
   "id": "b121d645",
   "metadata": {},
   "source": [
    "## Analysis 3"
   ]
  },
  {
   "cell_type": "markdown",
   "id": "b129b2f6",
   "metadata": {},
   "source": [
    "### Research Question"
   ]
  },
  {
   "cell_type": "markdown",
   "id": "20f0a3ee",
   "metadata": {},
   "source": [
    "Is there an association between time spent socializing with family and life satisfaction?"
   ]
  },
  {
   "cell_type": "markdown",
   "id": "efc9526c",
   "metadata": {},
   "source": [
    "### Variables"
   ]
  },
  {
   "cell_type": "markdown",
   "id": "2fb0a46d",
   "metadata": {},
   "source": [
    "CONNECTION_social_time_family_p7d_grouped (Time spent socializing with family in the past week), WELLNESS_life_satisfaction (Self-rated life satisfaction on a scale of 1-10)"
   ]
  },
  {
   "cell_type": "markdown",
   "id": "ca5d97f5",
   "metadata": {},
   "source": [
    "### Visualization"
   ]
  },
  {
   "cell_type": "markdown",
   "id": "c9b2fe48",
   "metadata": {},
   "source": [
    "Histogram for CONNECTION_social_time_family_p7d_grouped to show the distribution of time spent with family."
   ]
  },
  {
   "cell_type": "markdown",
   "id": "8c578e34",
   "metadata": {},
   "source": [
    "Box Plot for WELLNESS_life_satisfaction by categories of family social time to visualize central tendencies and variances in life satisfaction across social time levels."
   ]
  },
  {
   "cell_type": "markdown",
   "id": "53d0cb93",
   "metadata": {},
   "source": [
    "### Method and Assumptions"
   ]
  },
  {
   "cell_type": "markdown",
   "id": "e2cce112",
   "metadata": {},
   "source": [
    "Simple Linear Regression to predict life satisfaction from time spent with family, constructing a 95% confidence interval via bootstrapping for robust interval estimates. As for assumptions, we assume linearity between family time and life satisfaction, independence of observations, homoscedasticity, and check normality of residuals."
   ]
  },
  {
   "cell_type": "markdown",
   "id": "73449789",
   "metadata": {},
   "source": [
    "### Hypothesis "
   ]
  },
  {
   "cell_type": "markdown",
   "id": "ece68ab8",
   "metadata": {},
   "source": [
    "Null Hypothesis - Time spent socializing with family does not affect life satisfaction."
   ]
  },
  {
   "cell_type": "markdown",
   "id": "518f38d2",
   "metadata": {},
   "source": [
    "Alternative Hypothesis - Time spent socializing with family has an effect on life satisfaction."
   ]
  },
  {
   "cell_type": "markdown",
   "id": "c82cfe14",
   "metadata": {},
   "source": [
    "### Potential Results"
   ]
  },
  {
   "cell_type": "markdown",
   "id": "7d81c893",
   "metadata": {},
   "source": [
    "A confidence interval for the slope that excludes zero suggests a significant relationship.\n",
    "If the interval includes zero, it indicates no significant association at the 95% confidence level."
   ]
  }
 ],
 "metadata": {
  "kernelspec": {
   "display_name": "Python 3 (ipykernel)",
   "language": "python",
   "name": "python3"
  },
  "language_info": {
   "codemirror_mode": {
    "name": "ipython",
    "version": 3
   },
   "file_extension": ".py",
   "mimetype": "text/x-python",
   "name": "python",
   "nbconvert_exporter": "python",
   "pygments_lexer": "ipython3",
   "version": "3.11.6"
  }
 },
 "nbformat": 4,
 "nbformat_minor": 5
}
